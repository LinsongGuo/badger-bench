{
 "cells": [
  {
   "cell_type": "code",
   "execution_count": null,
   "metadata": {},
   "outputs": [
    {
     "ename": "",
     "evalue": "",
     "output_type": "error",
     "traceback": [
      "\u001b[1;31mFailed to start the Kernel. \n",
      "\u001b[1;31mUnable to start Kernel 'Python 3.10.12' due to a timeout waiting for the ports to get used. \n",
      "\u001b[1;31mView Jupyter <a href='command:jupyter.viewOutput'>log</a> for further details."
     ]
    }
   ],
   "source": [
    "f = [\n",
    "# '/data/dzuberi/code/badger-bench/server/new_client/run.20240522132514-uintr-10000us/results_10000us.csv',\n",
    "# '/data/dzuberi/code/badger-bench/server/new_client/run.20240522140207-signal-10000us/results_10000us.csv',\n",
    "# '/data/dzuberi/code/badger-bench/server/new_client/run.20240522143902-uintr-100us/results_100us.csv',\n",
    "# '/data/dzuberi/code/badger-bench/server/new_client/run.20240522151556-signal-100us/results_100us.csv'\n",
    "'/data/dzuberi/code/badger-bench/server/new_client/run.20240528124453-uintr-10000us/results_10000us.csv',\n",
    "'/data/dzuberi/code/badger-bench/server/new_client/run.20240528132200-signal-10000us/results_10000us.csv',\n",
    "'/data/dzuberi/code/badger-bench/server/new_client/run.20240528135914-uintr-100us/results_100us.csv',\n",
    "'/data/dzuberi/code/badger-bench/server/new_client/run.20240528143631-signal-100us/results_100us.csv',\n",
    "'/data/dzuberi/code/badger-bench/server/new_client/run.20240528151350-uintr-10us/results_10us.csv',\n",
    "'/data/dzuberi/code/badger-bench/server/new_client/run.20240528155100-signal-10us/results_10us.csv'\n",
    "]"
   ]
  },
  {
   "cell_type": "code",
   "execution_count": null,
   "metadata": {},
   "outputs": [
    {
     "ename": "",
     "evalue": "",
     "output_type": "error",
     "traceback": [
      "\u001b[1;31mFailed to start the Kernel. \n",
      "\u001b[1;31mUnable to start Kernel 'Python 3.10.12' due to a timeout waiting for the ports to get used. \n",
      "\u001b[1;31mView Jupyter <a href='command:jupyter.viewOutput'>log</a> for further details."
     ]
    }
   ],
   "source": [
    "import pandas as pd\n",
    "import matplotlib.pyplot as plt\n",
    "import seaborn as sns\n",
    "from plotnine import *"
   ]
  },
  {
   "cell_type": "code",
   "execution_count": null,
   "metadata": {},
   "outputs": [
    {
     "ename": "",
     "evalue": "",
     "output_type": "error",
     "traceback": [
      "\u001b[1;31mFailed to start the Kernel. \n",
      "\u001b[1;31mUnable to start Kernel 'Python 3.10.12' due to a timeout waiting for the ports to get used. \n",
      "\u001b[1;31mView Jupyter <a href='command:jupyter.viewOutput'>log</a> for further details."
     ]
    }
   ],
   "source": [
    "def prep_data(file_paths):\n",
    "    # Read in data\n",
    "    data_frames = []\n",
    "    for f in file_paths:\n",
    "        print(f\"reading data from file: {f}\")\n",
    "        df = pd.read_csv(f, sep=\",\")\n",
    "        df[\"preempt_interval_str\"] = (df[\"preempt_interval\"] / 1000).astype(int).astype(str) + \"us\"\n",
    " #       df[\"preempt_interval_str\"] = pd.Categorical(df[\"preempt_interval_str\"], categories=interval_order, ordered=True)\n",
    "        df[\"config\"] = df[\"preempt_type\"] + \" \" + df[\"preempt_interval_str\"]\n",
    "\n",
    " #       filtered_df = df[df[\"config\"].str.contains(\"signal 10000us|signal 80us|signal 10us|uintr 10000us|uintr 50us|uintr 10us\")]\n",
    " #       data_frames.append(filtered_df)\n",
    "        data_frames.append(df)\n",
    "\n",
    "    all_data = pd.concat(data_frames, ignore_index=True)\n",
    "\n",
    "    return all_data"
   ]
  },
  {
   "cell_type": "code",
   "execution_count": null,
   "metadata": {},
   "outputs": [
    {
     "ename": "",
     "evalue": "",
     "output_type": "error",
     "traceback": [
      "\u001b[1;31mFailed to start the Kernel. \n",
      "\u001b[1;31mUnable to start Kernel 'Python 3.10.12' due to a timeout waiting for the ports to get used. \n",
      "\u001b[1;31mView Jupyter <a href='command:jupyter.viewOutput'>log</a> for further details."
     ]
    }
   ],
   "source": [
    "def print_columns(data):\n",
    "    print(\"Available columns for plotting:\")\n",
    "    for column in data.columns:\n",
    "        print(f\"- {column}\")"
   ]
  },
  {
   "cell_type": "code",
   "execution_count": null,
   "metadata": {},
   "outputs": [
    {
     "ename": "",
     "evalue": "",
     "output_type": "error",
     "traceback": [
      "\u001b[1;31mFailed to start the Kernel. \n",
      "\u001b[1;31mUnable to start Kernel 'Python 3.10.12' due to a timeout waiting for the ports to get used. \n",
      "\u001b[1;31mView Jupyter <a href='command:jupyter.viewOutput'>log</a> for further details."
     ]
    }
   ],
   "source": [
    "def plot_latency_percentile_bimodal(all_data, percentile):\n",
    "    # Plot settings\n",
    "    plt.figure(figsize=(5.5, 4))\n",
    "\n",
    "    # Short request type\n",
    "    data_short = all_data[all_data['req_type'] == \"short\"]\n",
    "    max_latency_short = data_short[percentile].max()\n",
    "    \n",
    "    # Plot short requests\n",
    "    sns.lineplot(data=data_short, x=\"achieved\", y=percentile, hue=\"config\", style=\"preempt_type\", markers=True, dashes=False)\n",
    "    plt.xlabel(\"Achieved load (req/s)\")\n",
    "    plt.ylabel(f\"{percentile} Latency (us)\")\n",
    "    plt.ylim(0, max_latency_short)\n",
    "    plt.legend(title=\"Config and Preempt Type\")\n",
    "    plt.title(f\"Latency for {percentile} Percentile (short)\")\n",
    "    plt.savefig(f\"latency_{percentile}_short.pdf\", dpi=300)\n",
    "    plt.clf()\n",
    "\n",
    "    # Long request type\n",
    "    data_long = all_data[all_data['req_type'] == \"long\"]\n",
    "    max_latency_long = data_long[percentile].max()\n",
    "    \n",
    "    # Plot long requests\n",
    "    sns.lineplot(data=data_long, x=\"achieved\", y=percentile, hue=\"config\", style=\"preempt_type\", markers=True, dashes=False)\n",
    "    plt.xlabel(\"Achieved load (req/s)\")\n",
    "    plt.ylabel(f\"{percentile} Latency (us)\")\n",
    "    plt.ylim(0, max_latency_long)\n",
    "    plt.legend(title=\"Config and Preempt Type\")\n",
    "    plt.title(f\"Latency for {percentile} Percentile (long)\")\n",
    "    plt.savefig(f\"latency_{percentile}_long.pdf\", dpi=300)\n",
    "    plt.clf()\n"
   ]
  },
  {
   "cell_type": "code",
   "execution_count": null,
   "metadata": {},
   "outputs": [
    {
     "ename": "",
     "evalue": "",
     "output_type": "error",
     "traceback": [
      "\u001b[1;31mFailed to start the Kernel. \n",
      "\u001b[1;31mUnable to start Kernel 'Python 3.10.12' due to a timeout waiting for the ports to get used. \n",
      "\u001b[1;31mView Jupyter <a href='command:jupyter.viewOutput'>log</a> for further details."
     ]
    }
   ],
   "source": [
    "max_latency_short = {\n",
    "    \"p50\": 1000,\n",
    "    \"p99\": 5000,\n",
    "    \"p99.9\": 5000\n",
    "}\n",
    "\n",
    "max_latency_long = {\n",
    "    \"p50\": 2000,\n",
    "    \"p99\": 10000,\n",
    "    \"p99.9\": 10000\n",
    "}\n",
    "\n",
    "def theme_defaults():\n",
    "    return theme_bw() + theme(legend_position=(0.3, 0.7), legend_direction='vertical',\n",
    "        legend_key_size=10, legend_spacing=10, legend_title=element_blank())\n",
    "\n",
    "def plot_latency_percentile_bimodal(all_data, percentile):\n",
    "    data_short = all_data[all_data['req_type'] == \"short\"]\n",
    "\n",
    "    plot = ggplot(data_short, aes(x=\"achieved\", y=percentile, color=\"config\", linetype=\"preempt_type\"))\n",
    "    plot = plot + geom_point() + geom_line()\n",
    "\n",
    "    plot = plot + theme_defaults()\n",
    "    plot = plot + labs(x=\"Achieved load (req/s)\", y=f\"{percentile} Latency (us)\")\n",
    "    # plot = plot + coord_cartesian(ylim=(0, max_latency_short[percentile]))\n",
    "\n",
    "    plot.show()\n",
    "    ggsave(plot, filename=f\"latency_{percentile}_short.pdf\", width=5.5, height=4, dpi=300)\n",
    "\n",
    "    data_long = all_data[all_data['req_type'] == \"long\"]\n",
    "\n",
    "    plot = ggplot(data_long, aes(x=\"achieved\", y=percentile, color=\"config\", linetype=\"preempt_type\"))\n",
    "    plot = plot + geom_point() + geom_line()\n",
    "\n",
    "    plot = plot + theme_defaults()\n",
    "    plot = plot + labs(x=\"Achieved load (req/s)\", y=f\"{percentile} Latency (us)\")\n",
    "    # plot = plot + coord_cartesian(ylim=(0, max_latency_long[percentile]))\n",
    "\n",
    "    plot.show()\n",
    "    ggsave(plot, filename=f\"latency_{percentile}_long.pdf\", width=5.5, height=4, dpi=300)"
   ]
  },
  {
   "cell_type": "code",
   "execution_count": null,
   "metadata": {},
   "outputs": [
    {
     "ename": "",
     "evalue": "",
     "output_type": "error",
     "traceback": [
      "\u001b[1;31mFailed to start the Kernel. \n",
      "\u001b[1;31mUnable to start Kernel 'Python 3.10.12' due to a timeout waiting for the ports to get used. \n",
      "\u001b[1;31mView Jupyter <a href='command:jupyter.viewOutput'>log</a> for further details."
     ]
    }
   ],
   "source": [
    "all_data = prep_data(f)\n",
    "\n",
    "print_columns(all_data)"
   ]
  },
  {
   "cell_type": "code",
   "execution_count": null,
   "metadata": {},
   "outputs": [
    {
     "ename": "",
     "evalue": "",
     "output_type": "error",
     "traceback": [
      "\u001b[1;31mFailed to start the Kernel. \n",
      "\u001b[1;31mUnable to start Kernel 'Python 3.10.12' due to a timeout waiting for the ports to get used. \n",
      "\u001b[1;31mView Jupyter <a href='command:jupyter.viewOutput'>log</a> for further details."
     ]
    }
   ],
   "source": [
    "plot_latency_percentile_bimodal(all_data, \"p50\")\n",
    "plot_latency_percentile_bimodal(all_data, \"p99\")\n",
    "plot_latency_percentile_bimodal(all_data, \"p99.9\")"
   ]
  },
  {
   "cell_type": "code",
   "execution_count": null,
   "metadata": {},
   "outputs": [
    {
     "ename": "",
     "evalue": "",
     "output_type": "error",
     "traceback": [
      "\u001b[1;31mFailed to start the Kernel. \n",
      "\u001b[1;31mUnable to start Kernel 'Python 3.10.12' due to a timeout waiting for the ports to get used. \n",
      "\u001b[1;31mView Jupyter <a href='command:jupyter.viewOutput'>log</a> for further details."
     ]
    }
   ],
   "source": [
    "import matplotlib.pyplot as plt\n",
    "\n",
    "data_short = all_data[all_data[\"req_type\"] == 'short']\n",
    "data_long = all_data[all_data[\"req_type\"] == 'long']\n",
    "\n",
    "fig, axs = plt.subplots(1,2)\n",
    "\n",
    "axs[0].scatter(data_short[\"achieved\"], data_short[\"p50\"], label=\"short\")\n",
    "axs[1].scatter(data_long[\"achieved\"], data_long[\"p50\"], label=\"short\")\n",
    "\n",
    "fig.set_size_inches(10,5)\n",
    "fig.tight_layout()\n",
    "\n",
    "plt.show()"
   ]
  },
  {
   "cell_type": "code",
   "execution_count": null,
   "metadata": {},
   "outputs": [
    {
     "ename": "",
     "evalue": "",
     "output_type": "error",
     "traceback": [
      "\u001b[1;31mFailed to start the Kernel. \n",
      "\u001b[1;31mUnable to start Kernel 'Python 3.10.12' due to a timeout waiting for the ports to get used. \n",
      "\u001b[1;31mView Jupyter <a href='command:jupyter.viewOutput'>log</a> for further details."
     ]
    }
   ],
   "source": [
    "data_short"
   ]
  },
  {
   "cell_type": "code",
   "execution_count": null,
   "metadata": {},
   "outputs": [
    {
     "ename": "",
     "evalue": "",
     "output_type": "error",
     "traceback": [
      "\u001b[1;31mFailed to start the Kernel. \n",
      "\u001b[1;31mUnable to start Kernel 'Python 3.10.12' due to a timeout waiting for the ports to get used. \n",
      "\u001b[1;31mView Jupyter <a href='command:jupyter.viewOutput'>log</a> for further details."
     ]
    }
   ],
   "source": []
  }
 ],
 "metadata": {
  "kernelspec": {
   "display_name": "Python 3",
   "language": "python",
   "name": "python3"
  },
  "language_info": {
   "codemirror_mode": {
    "name": "ipython",
    "version": 3
   },
   "file_extension": ".py",
   "mimetype": "text/x-python",
   "name": "python",
   "nbconvert_exporter": "python",
   "pygments_lexer": "ipython3",
   "version": "3.10.12"
  }
 },
 "nbformat": 4,
 "nbformat_minor": 2
}
